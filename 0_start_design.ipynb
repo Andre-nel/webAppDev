{
 "cells": [
  {
   "attachments": {},
   "cell_type": "markdown",
   "metadata": {},
   "source": [
    "# How do I start to design my website?\n",
    "\n",
    "Objective:\tLearn to define goals to give direction to your web project.\n",
    "\n",
    "## Summary\n",
    "goals and vision\n",
    "- What exactly do I want to accomplish?\n",
    "- How will a website help me reach my goals?\n",
    "- What needs to be done, and in what order, to reach my goals?\n",
    "\n",
    "## Deeper dive\n",
    "A project never starts with the technical side.\n",
    "- first step back and decide in detail what you want to do\n",
    "- **You must sit down and structure your ideas to get a clear view of what path you must take to make your ideas a reality. To do this, you need only pen and paper and some time to answer at least the following questions.**\n",
    "    1. What exactly do I want to accomplish?\n",
    "        - This is the most important question to answer, since it drives everything else. List all the goals you want to reach.\n",
    "        - Once you have such a list, you need to **prioritize**. \n",
    "            - Order the goals from most important to least important:\n",
    "                - Doing this simple exercise—writing goals and sorting them—will help you out when you have decisions to make. (Should I implement these features, use these services, create these designs?)\n",
    "    1. How could a website bring me to my goals?\n",
    "        - In short, since these goals all revolve around the same topic, having everything in one place will help us meet our goals and help our followers connect with us.\n",
    "        - By answering that, you'll find the best way to reach your goals and save yourself from wasted effort.\n",
    "    1. What needs to be done, and in what order, to reach my goals?\n",
    "\n",
    "## Conclusion\n",
    "As you can see, the simple idea \"I want to make a website\" generates a long to-do list, which only grows longer as you think about it. Soon it may look overwhelming, but don't panic. You don't need to answer all the questions and you don't need to do everything on your list. What matters is to have a vision of what you want and how to get there. Once you have that clear vision, you need to decide how and when to do it. Break down big tasks into small, actionable steps. And those small steps will add up to great achievements."
   ]
  },
  {
   "attachments": {},
   "cell_type": "markdown",
   "metadata": {},
   "source": [
    "Enter the command to start up the server in that directory:\n",
    "\n",
    "`python3 -m http.server`\n",
    "\n",
    "By default, this will run the contents of the directory on a local web server, on port 8000. You can go to this server by going to the URL `localhost:8000` in your web browser. Here you'll see the contents of the directory listed — click the HTML file you want to run.\n",
    "\n",
    "Note: If you already have something running on port 8000, you can choose another port by running the server command followed by an alternative port number, e.g. `python3 -m http.server 7800`"
   ]
  },
  {
   "attachments": {},
   "cell_type": "markdown",
   "metadata": {},
   "source": [
    "# Running server-side languages locally\n",
    "Python's http.server (or SimpleHTTPServer for Python 2) module is useful, but it is merely a static file server; __it doesn't know how to run code written in languages__ such as Python, PHP or JavaScript. \n",
    "- To run __Python__ server-side code, you'll need to use a Python web framework. There are many popular Python web frameworks, such as Django (a guide is available), Flask, and Pyramid.\n",
    "- To run __Node.js__ (JavaScript) server-side code, you'll need to use raw node or a framework built on top of it. Express is a good choice — see Express Web Framework (Node.js/JavaScript).\n",
    "- To run __PHP__ server-side code, launch PHP's built-in development server"
   ]
  }
 ],
 "metadata": {
  "language_info": {
   "name": "python"
  },
  "orig_nbformat": 4
 },
 "nbformat": 4,
 "nbformat_minor": 2
}
